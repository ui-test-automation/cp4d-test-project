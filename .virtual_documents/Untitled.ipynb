from ibm_watson_studio_lib import access_project_or_space
wslib = access_project_or_space()

import pandas as pd

df_data_1 = pd.read_excel(wslib.mount.get_data_path('financial_sample.xlsx'))
df_data_1.head()




